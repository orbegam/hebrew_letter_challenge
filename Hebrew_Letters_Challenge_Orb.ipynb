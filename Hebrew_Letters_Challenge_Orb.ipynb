{
  "nbformat": 4,
  "nbformat_minor": 0,
  "metadata": {
    "colab": {
      "name": "Hebrew Letters Challenge - Orb.ipynb",
      "version": "0.3.2",
      "provenance": [],
      "collapsed_sections": [],
      "toc_visible": true
    },
    "kernelspec": {
      "name": "python3",
      "display_name": "Python 3"
    }
  },
  "cells": [
    {
      "metadata": {
        "id": "tFp7x7mARudk",
        "colab_type": "text"
      },
      "cell_type": "markdown",
      "source": [
        "# Imports and setup"
      ]
    },
    {
      "metadata": {
        "id": "rM2ReQgeRudo",
        "colab_type": "code",
        "colab": {}
      },
      "cell_type": "code",
      "source": [
        "import matplotlib.pyplot as plt\n",
        "import numpy as np\n",
        "from keras.models import Sequential, load_model\n",
        "from keras.layers import Dense\n",
        "from keras.utils import np_utils\n",
        "from keras.layers import Dropout\n",
        "from keras.layers import Flatten\n",
        "from keras.layers.convolutional import Conv2D\n",
        "from keras.layers.convolutional import MaxPooling2D\n",
        "from keras.callbacks import ModelCheckpoint\n",
        "from PIL import Image\n",
        "import PIL.ImageOps\n",
        "import os\n",
        "import urllib.request\n",
        "import zipfile\n"
      ],
      "execution_count": 0,
      "outputs": []
    },
    {
      "metadata": {
        "id": "d88RlqtYYwLT",
        "colab_type": "code",
        "colab": {}
      },
      "cell_type": "code",
      "source": [
        "def preprocess_img(image_path):\n",
        "    im = PIL.ImageOps.invert(Image.open(image_path).convert('L'))\n",
        "    \n",
        "    im = im.crop((5, 5, 76, 76))\n",
        "    \n",
        "    cutoff = 15\n",
        "    \n",
        "    pixels = im.load()\n",
        "    for i in range(im.size[0]):\n",
        "        for j in range(im.size[1]):\n",
        "            if pixels[i,j] < cutoff:\n",
        "                pixels[i,j] = 0\n",
        "            elif pixels[i,j] >= cutoff:\n",
        "                pixels[i,j] = 255\n",
        "    \n",
        "    cropped_im = im.crop(im.getbbox())\n",
        "    padded_im = pad_to_size(cropped_im, 71, 71)\n",
        "    \n",
        "    return np.asarray(padded_im)\n",
        "\n",
        "    \n",
        "def pad_to_size(im, new_w, new_h):\n",
        "    new_im = Image.new(\"L\", (new_w, new_h))\n",
        "    new_im.paste(im, ((new_w - im.size[0])//2,\n",
        "                      (new_h - im.size[1])//2))\n",
        "    return new_im"
      ],
      "execution_count": 0,
      "outputs": []
    },
    {
      "metadata": {
        "id": "RpNwkb45XMPe",
        "colab_type": "text"
      },
      "cell_type": "markdown",
      "source": [
        "# **TL;DR, Just give me a prediction!**"
      ]
    },
    {
      "metadata": {
        "id": "9hsGuh0kXSVx",
        "colab_type": "code",
        "colab": {}
      },
      "cell_type": "code",
      "source": [
        "try:\n",
        "    final_model = load_model('final_model.h5')\n",
        "except:\n",
        "    print(\"No model file found. Train the network once first, or upload your model as 'final_model.h5'\")\n",
        "\n",
        "def predict(image_path, verbose=False):\n",
        "    img_arr = preprocess_img(image_path)\n",
        "    img_arr = img_arr.reshape(1, img_arr.shape[0], img_arr.shape[1], 1).astype('float32')\n",
        "    img_arr = img_arr / 255\n",
        "    result = final_model.predict(img_arr)\n",
        "    if verbose:\n",
        "        print(result[0])\n",
        "        \n",
        "    return np.argmax(result)\n"
      ],
      "execution_count": 0,
      "outputs": []
    },
    {
      "metadata": {
        "id": "PaB6CaxbkYnp",
        "colab_type": "code",
        "colab": {
          "base_uri": "https://localhost:8080/",
          "height": 56
        },
        "outputId": "6106500f-5f32-4a1e-c13c-992087b6107b"
      },
      "cell_type": "code",
      "source": [
        "print(predict('/0_blaa.bmp', True))\n"
      ],
      "execution_count": 127,
      "outputs": [
        {
          "output_type": "stream",
          "text": [
            "[[9.9999571e-01 2.5997146e-08 4.2681836e-06]]\n",
            "0\n"
          ],
          "name": "stdout"
        }
      ]
    },
    {
      "metadata": {
        "id": "bbaF09djXXxz",
        "colab_type": "text"
      },
      "cell_type": "markdown",
      "source": [
        "# **I Have time, train the whole thing...**"
      ]
    },
    {
      "metadata": {
        "id": "zXdpmRKghBeR",
        "colab_type": "text"
      },
      "cell_type": "markdown",
      "source": [
        "Download dataset from Tola's github"
      ]
    },
    {
      "metadata": {
        "id": "1rLYMp0MESpl",
        "colab_type": "code",
        "colab": {}
      },
      "cell_type": "code",
      "source": [
        "local_zip_path = '/content/train.zip'\n",
        "local_imgs_path = '/content/imgs/'\n",
        "\n",
        "if not os.path.isfile(local_zip_path):\n",
        "    urllib.request.urlretrieve('https://github.com/tolaw/dl-tutorial/raw/master/hebrew/train.zip', local_zip_path)\n",
        "    \n",
        "if not os.path.isdir(local_imgs_path):\n",
        "    zip_ref = zipfile.ZipFile(local_zip_path, 'r')\n",
        "    zip_ref.extractall(local_imgs_path)\n",
        "    zip_ref.close()\n"
      ],
      "execution_count": 0,
      "outputs": []
    },
    {
      "metadata": {
        "id": "FdRggf8NhFhe",
        "colab_type": "text"
      },
      "cell_type": "markdown",
      "source": [
        "Preprocess all the images"
      ]
    },
    {
      "metadata": {
        "id": "wC0Uv9qYfZq4",
        "colab_type": "code",
        "outputId": "746eff65-22f7-449b-a52f-d013e9fd957c",
        "colab": {
          "base_uri": "https://localhost:8080/",
          "height": 36
        }
      },
      "cell_type": "code",
      "source": [
        "imgs = list()\n",
        "labels = list()\n",
        "\n",
        "for filename in os.listdir(local_imgs_path):\n",
        "    if not filename.endswith('bmp'):\n",
        "        continue\n",
        "        \n",
        "    img_arr = preprocess_img(os.path.join(local_imgs_path, filename))\n",
        "    imgs.append(img_arr)\n",
        "    labels.append(filename[0])\n",
        "    \n",
        "X = np.array(imgs)\n",
        "y = np.array(labels)\n",
        "\n",
        "img_dims = X[0].shape\n",
        "\n",
        "print(\"Loaded {0} images ({1}x{2} pixels)\".format(X.shape[0], X.shape[1], X.shape[2]))"
      ],
      "execution_count": 119,
      "outputs": [
        {
          "output_type": "stream",
          "text": [
            "Loaded 540 images (71x71 pixels)\n"
          ],
          "name": "stdout"
        }
      ]
    },
    {
      "metadata": {
        "id": "_ERC-KKA-FC6",
        "colab_type": "text"
      },
      "cell_type": "markdown",
      "source": [
        "Prepare training/testing sets"
      ]
    },
    {
      "metadata": {
        "id": "mA0joW1K68Qw",
        "colab_type": "code",
        "outputId": "1d4e1e2c-bd90-4edb-b97b-e266f93b2c4f",
        "colab": {
          "base_uri": "https://localhost:8080/",
          "height": 390
        }
      },
      "cell_type": "code",
      "source": [
        "trainset_size = 498\n",
        "\n",
        "X_train, y_train = X[:trainset_size], y[:trainset_size]\n",
        "X_test, y_test = X[trainset_size:], y[trainset_size:]\n",
        "\n",
        "unique, counts = np.unique(y_train, return_counts=True)\n",
        "print(\"Training set: \", dict(zip(unique, counts)))\n",
        "unique, counts = np.unique(y_test, return_counts=True)\n",
        "print(\"Testing set: \", dict(zip(unique, counts)))\n",
        "\n",
        "y_train = np_utils.to_categorical(y_train)\n",
        "y_test = np_utils.to_categorical(y_test)\n",
        "\n",
        "num_classes = y_test.shape[1]\n",
        "\n",
        "# plot 4 images as gray scale\n",
        "grid_size = 5\n",
        "for i in range(grid_size**2):\n",
        "    plt.subplot(grid_size, grid_size, i + 1)\n",
        "    plt.imshow(X_train[i], cmap=plt.get_cmap('gray'))\n",
        "\n",
        "plt.show()"
      ],
      "execution_count": 121,
      "outputs": [
        {
          "output_type": "stream",
          "text": [
            "Training set:  {'0': 166, '1': 166, '2': 166}\n",
            "Testing set:  {'0': 14, '1': 14, '2': 14}\n"
          ],
          "name": "stdout"
        },
        {
          "output_type": "display_data",
          "data": {
            "image/png": "[encoded data removed]",
            "text/plain": [
              "<Figure size 576x396 with 25 Axes>"
            ]
          },
          "metadata": {
            "tags": []
          }
        }
      ]
    },
    {
      "metadata": {
        "id": "B_wOYnR7Rud0",
        "colab_type": "text"
      },
      "cell_type": "markdown",
      "source": [
        "Format data for CNN"
      ]
    },
    {
      "metadata": {
        "id": "A62F3rFYL3n-",
        "colab_type": "code",
        "colab": {}
      },
      "cell_type": "code",
      "source": [
        "# CNN - prepare data\n",
        "\n",
        "X_train_cnn = X_train.reshape(X_train.shape[0], img_dims[0],  img_dims[1], 1).astype('float32')\n",
        "X_test_cnn = X_test.reshape(X_test.shape[0], img_dims[0], img_dims[1], 1).astype('float32')\n",
        "\n",
        "# print(np.histogram(X_train[0]))\n",
        "\n",
        "# normalize inputs from 0-255 to 0-1\n",
        "X_train_cnn = X_train_cnn / 255\n",
        "X_test_cnn = X_test_cnn / 255\n",
        "\n",
        "X_for_plot = X_test_cnn"
      ],
      "execution_count": 0,
      "outputs": []
    },
    {
      "metadata": {
        "id": "xlch89-yiSIk",
        "colab_type": "text"
      },
      "cell_type": "markdown",
      "source": [
        "Build and train model"
      ]
    },
    {
      "metadata": {
        "id": "M8mFYUKvNbH3",
        "colab_type": "code",
        "colab": {
          "base_uri": "https://localhost:8080/",
          "height": 1315
        },
        "outputId": "dd8d0eed-9f46-4977-911b-cddc480c58a8"
      },
      "cell_type": "code",
      "source": [
        "model = Sequential()\n",
        "\n",
        "model.add(Conv2D(40, (10, 10), input_shape=(img_dims[0], img_dims[1], 1), activation='relu',kernel_initializer='normal'))\n",
        "model.add(MaxPooling2D((2, 2)))\n",
        "\n",
        "model.add(Conv2D(20, (3, 3), activation='relu', kernel_initializer='normal'))\n",
        "model.add(MaxPooling2D((2, 2)))\n",
        "\n",
        "model.add(Dropout(0.3))\n",
        "\n",
        "model.add(Flatten())\n",
        "\n",
        "model.add(Dense(60, activation='relu', kernel_initializer='normal'))\n",
        "\n",
        "model.add(Dense(50, input_dim=img_dims[0] * img_dims[1], activation='relu', kernel_initializer='normal'))\n",
        "\n",
        "model.add(Dense(num_classes, activation='softmax', kernel_initializer='normal'))\n",
        "\n",
        "model.compile(loss='categorical_crossentropy', optimizer='adam', metrics=['accuracy'])\n",
        "\n",
        "print(model.summary())\n",
        "\n",
        "mcp_save = ModelCheckpoint('final_model.h5', save_best_only=True, monitor='val_loss')\n",
        "\n",
        "history = model.fit(X_train_cnn, y_train,\n",
        "                    validation_data=(X_test_cnn, y_test),\n",
        "                    epochs=20, batch_size=200, verbose=2,\n",
        "                    callbacks=[mcp_save])"
      ],
      "execution_count": 125,
      "outputs": [
        {
          "output_type": "stream",
          "text": [
            "_________________________________________________________________\n",
            "Layer (type)                 Output Shape              Param #   \n",
            "=================================================================\n",
            "conv2d_45 (Conv2D)           (None, 62, 62, 40)        4040      \n",
            "_________________________________________________________________\n",
            "max_pooling2d_45 (MaxPooling (None, 31, 31, 40)        0         \n",
            "_________________________________________________________________\n",
            "conv2d_46 (Conv2D)           (None, 29, 29, 20)        7220      \n",
            "_________________________________________________________________\n",
            "max_pooling2d_46 (MaxPooling (None, 14, 14, 20)        0         \n",
            "_________________________________________________________________\n",
            "dropout_23 (Dropout)         (None, 14, 14, 20)        0         \n",
            "_________________________________________________________________\n",
            "flatten_23 (Flatten)         (None, 3920)              0         \n",
            "_________________________________________________________________\n",
            "dense_67 (Dense)             (None, 60)                235260    \n",
            "_________________________________________________________________\n",
            "dense_68 (Dense)             (None, 50)                3050      \n",
            "_________________________________________________________________\n",
            "dense_69 (Dense)             (None, 3)                 153       \n",
            "=================================================================\n",
            "Total params: 249,723\n",
            "Trainable params: 249,723\n",
            "Non-trainable params: 0\n",
            "_________________________________________________________________\n",
            "None\n",
            "Train on 498 samples, validate on 42 samples\n",
            "Epoch 1/20\n",
            " - 11s - loss: 1.0852 - acc: 0.4819 - val_loss: 1.0234 - val_acc: 0.7619\n",
            "Epoch 2/20\n",
            " - 6s - loss: 1.0008 - acc: 0.7209 - val_loss: 0.8047 - val_acc: 0.7857\n",
            "Epoch 3/20\n",
            " - 6s - loss: 0.7752 - acc: 0.7731 - val_loss: 0.5247 - val_acc: 0.8095\n",
            "Epoch 4/20\n",
            " - 6s - loss: 0.5758 - acc: 0.7791 - val_loss: 0.3527 - val_acc: 0.8810\n",
            "Epoch 5/20\n",
            " - 6s - loss: 0.5126 - acc: 0.8193 - val_loss: 0.2816 - val_acc: 0.8810\n",
            "Epoch 6/20\n",
            " - 6s - loss: 0.4411 - acc: 0.8353 - val_loss: 0.2845 - val_acc: 0.8571\n",
            "Epoch 7/20\n",
            " - 6s - loss: 0.4101 - acc: 0.8454 - val_loss: 0.2309 - val_acc: 0.8810\n",
            "Epoch 8/20\n",
            " - 6s - loss: 0.3510 - acc: 0.8835 - val_loss: 0.1943 - val_acc: 0.9524\n",
            "Epoch 9/20\n",
            " - 6s - loss: 0.3250 - acc: 0.8835 - val_loss: 0.1749 - val_acc: 0.9286\n",
            "Epoch 10/20\n",
            " - 6s - loss: 0.2816 - acc: 0.8956 - val_loss: 0.1455 - val_acc: 0.9762\n",
            "Epoch 11/20\n",
            " - 6s - loss: 0.2405 - acc: 0.9197 - val_loss: 0.1183 - val_acc: 0.9762\n",
            "Epoch 12/20\n",
            " - 6s - loss: 0.2182 - acc: 0.9157 - val_loss: 0.0915 - val_acc: 1.0000\n",
            "Epoch 13/20\n",
            " - 6s - loss: 0.1742 - acc: 0.9478 - val_loss: 0.0816 - val_acc: 1.0000\n",
            "Epoch 14/20\n",
            " - 6s - loss: 0.1395 - acc: 0.9598 - val_loss: 0.0556 - val_acc: 1.0000\n",
            "Epoch 15/20\n",
            " - 6s - loss: 0.1101 - acc: 0.9699 - val_loss: 0.0481 - val_acc: 1.0000\n",
            "Epoch 16/20\n",
            " - 6s - loss: 0.0960 - acc: 0.9618 - val_loss: 0.0407 - val_acc: 1.0000\n",
            "Epoch 17/20\n",
            " - 6s - loss: 0.0768 - acc: 0.9719 - val_loss: 0.0359 - val_acc: 1.0000\n",
            "Epoch 18/20\n",
            " - 6s - loss: 0.0489 - acc: 0.9900 - val_loss: 0.0479 - val_acc: 0.9762\n",
            "Epoch 19/20\n",
            " - 6s - loss: 0.0487 - acc: 0.9900 - val_loss: 0.0255 - val_acc: 1.0000\n",
            "Epoch 20/20\n",
            " - 6s - loss: 0.0403 - acc: 0.9839 - val_loss: 0.0175 - val_acc: 1.0000\n"
          ],
          "name": "stdout"
        }
      ]
    },
    {
      "metadata": {
        "id": "v3eaelFdCijj",
        "colab_type": "code",
        "outputId": "ec34d700-3927-4ca3-982b-b2c27f506038",
        "colab": {
          "base_uri": "https://localhost:8080/",
          "height": 774
        }
      },
      "cell_type": "code",
      "source": [
        "# Show training progress\n",
        "plt.plot(history.history['acc'], 'b--')\n",
        "plt.plot(history.history['val_acc'], 'r--')\n",
        "plt.title('Model Accuracy')\n",
        "plt.ylabel('Accuracy')\n",
        "plt.xlabel('Epoch')\n",
        "plt.legend(['Train Accuracy', 'Test Accuracy'], loc='lower right')\n",
        "plt.show()\n",
        "plt.plot(history.history['loss'], 'b-')\n",
        "plt.plot(history.history['val_loss'], 'r-')\n",
        "plt.title('Model Loss')\n",
        "plt.ylabel('Loss')\n",
        "plt.xlabel('Epoch')\n",
        "plt.legend(['Train Loss', 'Test Loss'], loc='upper right')\n",
        "plt.show()\n",
        "\n",
        "print(model.evaluate(x=X_for_plot, y=y_test, batch_size=200))"
      ],
      "execution_count": 124,
      "outputs": [
        {
          "output_type": "display_data",
          "data": {
            "image/png": "[encoded data removed]",
            "text/plain": [
              "<Figure size 576x396 with 1 Axes>"
            ]
          },
          "metadata": {
            "tags": []
          }
        },
        {
          "output_type": "display_data",
          "data": {
            "image/png": "[encoded data removed]",
            "text/plain": [
              "<Figure size 576x396 with 1 Axes>"
            ]
          },
          "metadata": {
            "tags": []
          }
        },
        {
          "output_type": "stream",
          "text": [
            "\r42/42 [==============================] - 0s 4ms/step\n",
            "[0.023897333070635796, 1.0]\n"
          ],
          "name": "stdout"
        }
      ]
    },
    {
      "metadata": {
        "id": "5032FWXnHgxm",
        "colab_type": "code",
        "outputId": "f3d38b27-9905-4882-e369-743f0ee03b6e",
        "colab": {
          "base_uri": "https://localhost:8080/",
          "height": 388
        }
      },
      "cell_type": "code",
      "source": [
        "# Prediction\n",
        "test_idx = 2\n",
        "\n",
        "image = X_for_plot[test_idx]\n",
        "image = image.reshape(img_dims[0], img_dims[1])\n",
        "image = image * 255\n",
        "image = image.astype(np.uint8)\n",
        "plt.imshow(image, cmap=plt.get_cmap('gray'))\n",
        "plt.show()\n",
        "\n",
        "label = y_test[test_idx]\n",
        "print(f\"label: {label}\")\n",
        "\n",
        "prediction = model.predict(X_for_plot[test_idx:test_idx+1])\n",
        "print(f\"prediction: {prediction}\")"
      ],
      "execution_count": 123,
      "outputs": [
        {
          "output_type": "display_data",
          "data": {
            "image/png": "[encoded data removed]",
            "text/plain": [
              "<Figure size 576x396 with 1 Axes>"
            ]
          },
          "metadata": {
            "tags": []
          }
        },
        {
          "output_type": "stream",
          "text": [
            "label: [1. 0. 0.]\n",
            "prediction: [[9.6443099e-01 1.9330659e-05 3.5549752e-02]]\n"
          ],
          "name": "stdout"
        }
      ]
    }
  ]
}